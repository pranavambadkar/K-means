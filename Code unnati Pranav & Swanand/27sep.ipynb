{
 "cells": [
  {
   "cell_type": "code",
   "execution_count": 1,
   "id": "c212b121",
   "metadata": {
    "scrolled": true
   },
   "outputs": [
    {
     "name": "stdout",
     "output_type": "stream",
     "text": [
      "enter the number10\n",
      "Number is even!!\n"
     ]
    }
   ],
   "source": [
    "num=int(input(\"enter the number\"))\n",
    "def fun():\n",
    "    if num%2==0:\n",
    "        print(\"Number is even!!\")\n",
    "    else:\n",
    "        print(\"Numbe is odd!!\")\n",
    "\n",
    "fun()"
   ]
  },
  {
   "cell_type": "code",
   "execution_count": 2,
   "id": "f59c5ec8",
   "metadata": {},
   "outputs": [
    {
     "name": "stdout",
     "output_type": "stream",
     "text": [
      "Enter a number: 10\n",
      "10 is not a prime number!!\n"
     ]
    }
   ],
   "source": [
    "num = int(input(\"Enter a number: \"))\n",
    "if num >= 1:\n",
    "    for i in range(2, num):\n",
    "        if(num % i == 0):\n",
    "            print(num, \"is not a prime number!!\")\n",
    "            break\n",
    "        else:\n",
    "            print(num, \"is a prime number\")\n",
    "else:\n",
    "    print(num, \"is not prime number!!\")"
   ]
  },
  {
   "cell_type": "code",
   "execution_count": 3,
   "id": "0502961a",
   "metadata": {},
   "outputs": [
    {
     "name": "stdout",
     "output_type": "stream",
     "text": [
      "enter the number10\n"
     ]
    }
   ],
   "source": [
    "num = int(input(\"enter the number\"))"
   ]
  },
  {
   "cell_type": "code",
   "execution_count": 10,
   "id": "4ffbf5d8",
   "metadata": {},
   "outputs": [
    {
     "name": "stdout",
     "output_type": "stream",
     "text": [
      "{'iphone': 199999, 'oneplus': 40000, 'samsung': 60000, 'realme': 10000}\n",
      "Total:  309999\n"
     ]
    }
   ],
   "source": [
    "bill = {\n",
    "    \"iphone\" : 199999,\n",
    "    \"oneplus\" : 40000,\n",
    "    \"samsung\" : 60000,\n",
    "    \"realme\" : 10000,\n",
    "}\n",
    "print(bill)\n",
    "def total(bill):\n",
    "    return sum(bill.values())\n",
    "print(\"Total: \", total(bill))"
   ]
  },
  {
   "cell_type": "code",
   "execution_count": 14,
   "id": "afcd6602",
   "metadata": {},
   "outputs": [
    {
     "name": "stdout",
     "output_type": "stream",
     "text": [
      "Enter a product name: bmw\n",
      "Enter a price of product: 255555555\n",
      "Enter a product name: supra\n",
      "Enter a price of product: 300000000\n",
      "Enter a product name: RR\n",
      "Enter a price of product: 545484542\n",
      "Enter a product name: thar\n",
      "Enter a price of product: 4555525\n",
      "{'bmw': 255555555, 'supra': 300000000, 'RR': 545484542, 'thar': 4555525}\n",
      "Total:  1105595622\n"
     ]
    }
   ],
   "source": [
    "bill = {}\n",
    "for i in range(4):\n",
    "    pname = input(\"Enter a product name: \")\n",
    "    price = int(input(\"Enter a price of product: \"))\n",
    "    \n",
    "    bill[pname] = price\n",
    "print(bill)\n",
    "\n",
    "def total(bill):\n",
    "    return sum(bill.values())\n",
    "print(\"Total: \", total(bill))"
   ]
  },
  {
   "cell_type": "code",
   "execution_count": null,
   "id": "23bd8049",
   "metadata": {},
   "outputs": [],
   "source": []
  }
 ],
 "metadata": {
  "kernelspec": {
   "display_name": "Python 3 (ipykernel)",
   "language": "python",
   "name": "python3"
  },
  "language_info": {
   "codemirror_mode": {
    "name": "ipython",
    "version": 3
   },
   "file_extension": ".py",
   "mimetype": "text/x-python",
   "name": "python",
   "nbconvert_exporter": "python",
   "pygments_lexer": "ipython3",
   "version": "3.11.4"
  }
 },
 "nbformat": 4,
 "nbformat_minor": 5
}
