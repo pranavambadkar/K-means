{
 "cells": [
  {
   "cell_type": "code",
   "execution_count": 1,
   "id": "f3b58b88",
   "metadata": {},
   "outputs": [
    {
     "name": "stdout",
     "output_type": "stream",
     "text": [
      "{'BMW': 23, 'Audi': 45, 'Mercedes': 56}\n"
     ]
    }
   ],
   "source": [
    "list = [(\"BMW\", 23), (\"Audi\", 45), (\"Mercedes\", 56)]\n",
    "cars = dict(list)\n",
    "print(cars)"
   ]
  },
  {
   "cell_type": "code",
   "execution_count": 2,
   "id": "966d284c",
   "metadata": {},
   "outputs": [
    {
     "name": "stdout",
     "output_type": "stream",
     "text": [
      "4\n"
     ]
    }
   ],
   "source": [
    "data = [2, 5, 3, 3, 3, 3, 5, 6]\n",
    "dict = {}\n",
    "\n",
    "for i in data:\n",
    "    if i in dict:\n",
    "        dict[i] += 1\n",
    "    else:\n",
    "        dict[i] = 1\n",
    "\n",
    "count = 0\n",
    "for i in dict:\n",
    "    if (i > 1):\n",
    "        count += dict[i] - 1\n",
    "print(count)"
   ]
  }
 ],
 "metadata": {
  "kernelspec": {
   "display_name": "Python 3 (ipykernel)",
   "language": "python",
   "name": "python3"
  },
  "language_info": {
   "codemirror_mode": {
    "name": "ipython",
    "version": 3
   },
   "file_extension": ".py",
   "mimetype": "text/x-python",
   "name": "python",
   "nbconvert_exporter": "python",
   "pygments_lexer": "ipython3",
   "version": "3.11.4"
  }
 },
 "nbformat": 4,
 "nbformat_minor": 5
}
