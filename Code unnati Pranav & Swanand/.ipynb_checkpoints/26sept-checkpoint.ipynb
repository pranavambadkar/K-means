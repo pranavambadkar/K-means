{
 "cells": [
  {
   "cell_type": "code",
   "execution_count": 1,
   "id": "5860d444",
   "metadata": {},
   "outputs": [
    {
     "name": "stdout",
     "output_type": "stream",
     "text": [
      "hello\n"
     ]
    }
   ],
   "source": [
    "print(\"hello\")"
   ]
  },
  {
   "cell_type": "code",
   "execution_count": 2,
   "id": "9893922a",
   "metadata": {},
   "outputs": [
    {
     "name": "stdout",
     "output_type": "stream",
     "text": [
      "swan\n"
     ]
    }
   ],
   "source": [
    "def swa():\n",
    "    print(\"swan\")\n",
    "swa()"
   ]
  },
  {
   "cell_type": "code",
   "execution_count": 3,
   "id": "f199c58a",
   "metadata": {},
   "outputs": [
    {
     "name": "stdout",
     "output_type": "stream",
     "text": [
      "111\n"
     ]
    }
   ],
   "source": [
    "def Addition():\n",
    "    a=37\n",
    "    b=74\n",
    "    print(a+b)\n",
    "Addition()"
   ]
  },
  {
   "cell_type": "code",
   "execution_count": 4,
   "id": "136ab74c",
   "metadata": {},
   "outputs": [
    {
     "name": "stdout",
     "output_type": "stream",
     "text": [
      "enter the first element 10\n",
      "enter the second element 20\n",
      "30\n"
     ]
    }
   ],
   "source": [
    "def userinput():\n",
    "    s=int(input(\"enter the first element \"))\n",
    "    k=int(input(\"enter the second element \"))\n",
    "    l=s+k\n",
    "    print(l)\n",
    "userinput()"
   ]
  },
  {
   "cell_type": "code",
   "execution_count": 5,
   "id": "68c4891f",
   "metadata": {},
   "outputs": [
    {
     "name": "stdout",
     "output_type": "stream",
     "text": [
      "10.0\n",
      "<class 'float'>\n"
     ]
    }
   ],
   "source": [
    "a=10.0\n",
    "print(a)\n",
    "print(type(a))"
   ]
  },
  {
   "cell_type": "code",
   "execution_count": 6,
   "id": "bb0f212e",
   "metadata": {},
   "outputs": [
    {
     "name": "stdout",
     "output_type": "stream",
     "text": [
      "True\n"
     ]
    }
   ],
   "source": [
    "s = 5\n",
    "print(s>3 and s<10)"
   ]
  },
  {
   "cell_type": "code",
   "execution_count": 7,
   "id": "9b785eba",
   "metadata": {},
   "outputs": [
    {
     "name": "stdout",
     "output_type": "stream",
     "text": [
      "True\n"
     ]
    }
   ],
   "source": [
    "o=24\n",
    "print(o>22 or o<23)"
   ]
  },
  {
   "cell_type": "code",
   "execution_count": 8,
   "id": "7e8556c2",
   "metadata": {},
   "outputs": [
    {
     "name": "stdout",
     "output_type": "stream",
     "text": [
      "enter the first element 10\n",
      "enter the second element 20\n",
      "True\n"
     ]
    }
   ],
   "source": [
    "def userinput():\n",
    "    s=int(input(\"enter the first element \"))\n",
    "    k=int(input(\"enter the second element \"))\n",
    "    print(s>k or s<k)\n",
    "userinput()"
   ]
  },
  {
   "cell_type": "code",
   "execution_count": 9,
   "id": "28c7443f",
   "metadata": {},
   "outputs": [
    {
     "name": "stdout",
     "output_type": "stream",
     "text": [
      "enter the first element 10\n",
      "enter the second element 12\n",
      "True\n"
     ]
    }
   ],
   "source": [
    "def userinput():\n",
    "    s=int(input(\"enter the first element \"))\n",
    "    k=int(input(\"enter the second element \"))\n",
    "    print(s>5 or k<27)\n",
    "userinput()"
   ]
  },
  {
   "cell_type": "code",
   "execution_count": 18,
   "id": "89862266",
   "metadata": {},
   "outputs": [
    {
     "name": "stdout",
     "output_type": "stream",
     "text": [
      "swanand\n"
     ]
    }
   ],
   "source": [
    "str2=\"swanand\"\n",
    "print(str2)"
   ]
  },
  {
   "cell_type": "code",
   "execution_count": 19,
   "id": "45bbbcab",
   "metadata": {},
   "outputs": [
    {
     "data": {
      "text/plain": [
       "'swa'"
      ]
     },
     "execution_count": 19,
     "metadata": {},
     "output_type": "execute_result"
    }
   ],
   "source": [
    "str2[0:3]"
   ]
  },
  {
   "cell_type": "code",
   "execution_count": 20,
   "id": "2d4c7ae1",
   "metadata": {},
   "outputs": [
    {
     "data": {
      "text/plain": [
       "'a'"
      ]
     },
     "execution_count": 20,
     "metadata": {},
     "output_type": "execute_result"
    }
   ],
   "source": [
    "str2[2]"
   ]
  },
  {
   "cell_type": "code",
   "execution_count": 22,
   "id": "879f8e27",
   "metadata": {},
   "outputs": [
    {
     "name": "stdout",
     "output_type": "stream",
     "text": [
      "swarali\n"
     ]
    }
   ],
   "source": [
    "swa2=\"swarali\"\n",
    "print(swa2)"
   ]
  },
  {
   "cell_type": "code",
   "execution_count": 23,
   "id": "ebcd3713",
   "metadata": {},
   "outputs": [
    {
     "data": {
      "text/plain": [
       "'swa'"
      ]
     },
     "execution_count": 23,
     "metadata": {},
     "output_type": "execute_result"
    }
   ],
   "source": [
    "swa2[0:3]"
   ]
  },
  {
   "cell_type": "code",
   "execution_count": 30,
   "id": "58f66c83",
   "metadata": {},
   "outputs": [
    {
     "name": "stdout",
     "output_type": "stream",
     "text": [
      "    I am going Goa    \n"
     ]
    }
   ],
   "source": [
    "a=\"    I am going Goa    \"\n",
    "print(a)"
   ]
  },
  {
   "cell_type": "code",
   "execution_count": 25,
   "id": "41ff511b",
   "metadata": {},
   "outputs": [
    {
     "data": {
      "text/plain": [
       "'i am going goa'"
      ]
     },
     "execution_count": 25,
     "metadata": {},
     "output_type": "execute_result"
    }
   ],
   "source": [
    "a.lower()"
   ]
  },
  {
   "cell_type": "code",
   "execution_count": 26,
   "id": "6c39c3fa",
   "metadata": {},
   "outputs": [
    {
     "data": {
      "text/plain": [
       "'I AM GOING GOA'"
      ]
     },
     "execution_count": 26,
     "metadata": {},
     "output_type": "execute_result"
    }
   ],
   "source": [
    "a.upper()"
   ]
  },
  {
   "cell_type": "code",
   "execution_count": 27,
   "id": "a1968050",
   "metadata": {},
   "outputs": [
    {
     "data": {
      "text/plain": [
       "'I Am Going Goa'"
      ]
     },
     "execution_count": 27,
     "metadata": {},
     "output_type": "execute_result"
    }
   ],
   "source": [
    "a.title()"
   ]
  },
  {
   "cell_type": "code",
   "execution_count": 31,
   "id": "e3360898",
   "metadata": {},
   "outputs": [
    {
     "data": {
      "text/plain": [
       "'I am going Goa    '"
      ]
     },
     "execution_count": 31,
     "metadata": {},
     "output_type": "execute_result"
    }
   ],
   "source": [
    "a.lstrip()"
   ]
  },
  {
   "cell_type": "code",
   "execution_count": 32,
   "id": "0574d518",
   "metadata": {},
   "outputs": [
    {
     "data": {
      "text/plain": [
       "'    I am going Goa'"
      ]
     },
     "execution_count": 32,
     "metadata": {},
     "output_type": "execute_result"
    }
   ],
   "source": [
    "a.rstrip()"
   ]
  },
  {
   "cell_type": "code",
   "execution_count": 33,
   "id": "c26c0fd3",
   "metadata": {},
   "outputs": [
    {
     "data": {
      "text/plain": [
       "'I am going Goa'"
      ]
     },
     "execution_count": 33,
     "metadata": {},
     "output_type": "execute_result"
    }
   ],
   "source": [
    "a.strip()"
   ]
  },
  {
   "cell_type": "code",
   "execution_count": 34,
   "id": "a802ea6c",
   "metadata": {},
   "outputs": [
    {
     "name": "stdout",
     "output_type": "stream",
     "text": [
      "['green', 'red', 'blue', 'pink']\n"
     ]
    }
   ],
   "source": [
    "color=[\"green\",\"red\",\"blue\"]\n",
    "color.append(\"pink\")\n",
    "print(color)"
   ]
  },
  {
   "cell_type": "code",
   "execution_count": 36,
   "id": "bffe45ad",
   "metadata": {},
   "outputs": [
    {
     "name": "stdout",
     "output_type": "stream",
     "text": [
      "['green', 'red', 'blue', 'BMW', 'Volvo', 'Ford']\n"
     ]
    }
   ],
   "source": [
    "color=[\"green\",\"red\",\"blue\"]\n",
    "cars=[\"BMW\",\"Volvo\", \"Ford\"]\n",
    "color.extend(cars)\n",
    "print(color)"
   ]
  },
  {
   "cell_type": "code",
   "execution_count": 38,
   "id": "c988078a",
   "metadata": {},
   "outputs": [
    {
     "name": "stdout",
     "output_type": "stream",
     "text": [
      "['green', 'pink', 'red', 'blue']\n"
     ]
    }
   ],
   "source": [
    "color=[\"green\",\"red\",\"blue\"]\n",
    "color.insert(1,\"pink\")\n",
    "print(color)"
   ]
  },
  {
   "cell_type": "code",
   "execution_count": 43,
   "id": "92eaa471",
   "metadata": {},
   "outputs": [
    {
     "name": "stdout",
     "output_type": "stream",
     "text": [
      "['red', 'blue']\n"
     ]
    }
   ],
   "source": [
    "color=[\"green\",\"red\",\"blue\"]\n",
    "color.pop(0)\n",
    "print(color)"
   ]
  },
  {
   "cell_type": "code",
   "execution_count": 44,
   "id": "0c3c56f4",
   "metadata": {},
   "outputs": [
    {
     "name": "stdout",
     "output_type": "stream",
     "text": [
      "['green', 'blue']\n"
     ]
    }
   ],
   "source": [
    "color=[\"green\",\"red\",\"blue\"]\n",
    "color.remove(\"red\")\n",
    "print(color)"
   ]
  },
  {
   "cell_type": "code",
   "execution_count": 45,
   "id": "10b7abbb",
   "metadata": {},
   "outputs": [
    {
     "name": "stdout",
     "output_type": "stream",
     "text": [
      "['blue', 'green', 'red']\n"
     ]
    }
   ],
   "source": [
    "color=[\"green\",\"red\",\"blue\"]\n",
    "color.sort()\n",
    "print(color)"
   ]
  },
  {
   "cell_type": "code",
   "execution_count": 51,
   "id": "1bf01b8d",
   "metadata": {},
   "outputs": [
    {
     "data": {
      "text/plain": [
       "['I', 'am', 'going', 'Goa']"
      ]
     },
     "execution_count": 51,
     "metadata": {},
     "output_type": "execute_result"
    }
   ],
   "source": [
    "a.split()"
   ]
  },
  {
   "cell_type": "code",
   "execution_count": 78,
   "id": "0158d9a8",
   "metadata": {},
   "outputs": [
    {
     "name": "stdout",
     "output_type": "stream",
     "text": [
      "[1, 2, 3, 4, 5, 6, 7, 8]\n"
     ]
    }
   ],
   "source": [
    "Family=[1,2,3,4,5,6,7,8]\n",
    "print(Family)"
   ]
  },
  {
   "cell_type": "code",
   "execution_count": 79,
   "id": "a2900435",
   "metadata": {},
   "outputs": [
    {
     "name": "stdout",
     "output_type": "stream",
     "text": [
      "[2, 4, 6, 8]\n"
     ]
    }
   ],
   "source": [
    "Family.pop(0)\n",
    "Family.pop(1)\n",
    "Family.pop(2)\n",
    "Family.pop(3)\n",
    "print(Family)"
   ]
  },
  {
   "cell_type": "code",
   "execution_count": 80,
   "id": "d031ff94",
   "metadata": {},
   "outputs": [
    {
     "name": "stdout",
     "output_type": "stream",
     "text": [
      "[2, 4, 6, 8, '1', '3', '5', '7', '9', '10', '11']\n"
     ]
    }
   ],
   "source": [
    "Family.append(\"1\")\n",
    "Family.append(\"3\")\n",
    "Family.append(\"5\")\n",
    "Family.append(\"7\")\n",
    "Family.append(\"9\")\n",
    "Family.append(\"10\")\n",
    "Family.append(\"11\")\n",
    "print(Family)"
   ]
  },
  {
   "cell_type": "code",
   "execution_count": 84,
   "id": "c4295427",
   "metadata": {},
   "outputs": [
    {
     "name": "stdout",
     "output_type": "stream",
     "text": [
      "(1, 'Swanand', 2, 'swarali', 3, 'pranav', 4, 'pritam')\n",
      "(5, 'rohit', 6, 'sarthak')\n",
      "(1, 'Swanand', 2, 'swarali', 3, 'pranav', 4, 'pritam', 5, 'rohit', 6, 'sarthak')\n"
     ]
    }
   ],
   "source": [
    "t=(1,\"Swanand\",2,\"swarali\",3,\"pranav\",4,\"pritam\")\n",
    "print(t)\n",
    "t2=(5,\"rohit\",6,\"sarthak\")\n",
    "print(t2)\n",
    "print(t+t2)"
   ]
  },
  {
   "cell_type": "code",
   "execution_count": 91,
   "id": "a3dcc31c",
   "metadata": {},
   "outputs": [
    {
     "name": "stdout",
     "output_type": "stream",
     "text": [
      "2\n"
     ]
    }
   ],
   "source": [
    "num=(1,2,3,5,3,6)\n",
    "a=num.count(3)\n",
    "print(a)"
   ]
  },
  {
   "cell_type": "code",
   "execution_count": 93,
   "id": "490e97a9",
   "metadata": {},
   "outputs": [
    {
     "name": "stdout",
     "output_type": "stream",
     "text": [
      "5\n"
     ]
    }
   ],
   "source": [
    "print(num.index(6))"
   ]
  },
  {
   "cell_type": "code",
   "execution_count": 109,
   "id": "12b99978",
   "metadata": {},
   "outputs": [
    {
     "name": "stdout",
     "output_type": "stream",
     "text": [
      "{'brand': 'BMW', 'model': 'M5', 'year': '2022'}\n",
      "<class 'dict'>\n",
      "dict_keys(['brand', 'model', 'year'])\n",
      "dict_values(['BMW', 'M5', '2022'])\n",
      "{'brand': 'BMW', 'model': 'M6', 'year': '2022'}\n",
      "{'brand': 'BMW', 'model': 'M6', 'year': '2022', 'color': 'Red'}\n"
     ]
    },
    {
     "data": {
      "text/plain": [
       "{'brand': 'BMW', 'model': 'M6', 'color': 'Red'}"
      ]
     },
     "execution_count": 109,
     "metadata": {},
     "output_type": "execute_result"
    }
   ],
   "source": [
    "cars={\n",
    "    \"brand\": \"BMW\",\n",
    "    \"model\": \"M5\",\n",
    "    \"year\": \"2022\"\n",
    "}\n",
    "\n",
    "print(cars)\n",
    "print(type(cars))\n",
    "\n",
    "print(cars.keys())\n",
    "\n",
    "print(cars.values())\n",
    "\n",
    "cars.items()\n",
    "\n",
    "cars.update({\"model\":\"M6\"})\n",
    "print(cars)\n",
    "\n",
    "cars[\"color\"]=\"Red\"\n",
    "print(cars)\n",
    "\n",
    "cars.pop(\"year\")\n",
    "cars"
   ]
  },
  {
   "cell_type": "code",
   "execution_count": 110,
   "id": "f96e1a74",
   "metadata": {},
   "outputs": [
    {
     "name": "stdout",
     "output_type": "stream",
     "text": [
      "{'marathi', 'english', 'maths', 'hindi'}\n",
      "<class 'set'>\n"
     ]
    }
   ],
   "source": [
    "sub={\"marathi\",\"hindi\",\"english\",\"maths\",\"marathi\"}\n",
    "print(sub)\n",
    "print(type(sub))"
   ]
  },
  {
   "cell_type": "code",
   "execution_count": 121,
   "id": "f411b435",
   "metadata": {},
   "outputs": [
    {
     "name": "stdout",
     "output_type": "stream",
     "text": [
      "{'name': 'swanad', 'salary': 25000}\n",
      "{'name': 'swanad', 'salary': 500000}\n",
      "{'name': 'swarali', 'salary': 26000}\n",
      "{'name': 'swarali', 'salary': 20000}\n"
     ]
    }
   ],
   "source": [
    "emp1={\n",
    "    \"name\":\"swanad\",\n",
    "    \"salary\":25000,\n",
    "}\n",
    "print(emp1)\n",
    "emp1.update({\"salary\":500000})\n",
    "print(emp1)\n",
    "\n",
    "emp2={\n",
    "    \"name\":\"swarali\",\n",
    "    \"salary\":26000\n",
    "}\n",
    "print(emp2)\n",
    "emp2.update({\"salary\":20000})\n",
    "print(emp2)"
   ]
  },
  {
   "cell_type": "code",
   "execution_count": 129,
   "id": "4658d502",
   "metadata": {},
   "outputs": [
    {
     "name": "stdout",
     "output_type": "stream",
     "text": [
      "enter the name:swanand swarali swanand\n",
      "['swanand', 'swarali', 'swanand']\n",
      "swanand"
     ]
    }
   ],
   "source": [
    "name=[item for item in input(\"enter the name:\").split()]\n",
    "print(name)\n",
    "name2=[]\n",
    "def s():\n",
    "        for i in name:\n",
    "            if i not in name2:\n",
    "                name2.append(i)\n",
    "            else:\n",
    "                print(i,end='')\n",
    "s()"
   ]
  },
  {
   "cell_type": "code",
   "execution_count": null,
   "id": "2e179e7e",
   "metadata": {},
   "outputs": [],
   "source": []
  }
 ],
 "metadata": {
  "kernelspec": {
   "display_name": "Python 3 (ipykernel)",
   "language": "python",
   "name": "python3"
  },
  "language_info": {
   "codemirror_mode": {
    "name": "ipython",
    "version": 3
   },
   "file_extension": ".py",
   "mimetype": "text/x-python",
   "name": "python",
   "nbconvert_exporter": "python",
   "pygments_lexer": "ipython3",
   "version": "3.11.4"
  }
 },
 "nbformat": 4,
 "nbformat_minor": 5
}
