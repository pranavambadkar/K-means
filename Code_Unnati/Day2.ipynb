{
 "cells": [
  {
   "cell_type": "code",
   "execution_count": 4,
   "id": "b09c35a0",
   "metadata": {},
   "outputs": [
    {
     "name": "stdout",
     "output_type": "stream",
     "text": [
      "20\n",
      "This is code unnai course\n"
     ]
    }
   ],
   "source": [
    "#global variable\n",
    "a=\"This is code unnai course\"\n",
    "def test():\n",
    "    #local variable\n",
    "    a=20\n",
    "    print(a)\n",
    "test()\n",
    "print(a)\n"
   ]
  },
  {
   "cell_type": "code",
   "execution_count": 9,
   "id": "4cd113d3",
   "metadata": {},
   "outputs": [
    {
     "name": "stdout",
     "output_type": "stream",
     "text": [
      "12\n",
      "4\n",
      "multiplication is 48\n",
      "Addition is 16\n",
      "Substraction is 8\n",
      "Division is 3.0\n"
     ]
    }
   ],
   "source": [
    "a=int(input())\n",
    "b=int(input())\n",
    "def test(a,b):\n",
    "    print(\"multiplication is\",a*b)\n",
    "    print(\"Addition is\",a+b)\n",
    "    print(\"Substraction is\",a-b)\n",
    "    print(\"Division is\",a/b)\n",
    "test(a,b)"
   ]
  },
  {
   "cell_type": "code",
   "execution_count": 14,
   "id": "d5ea72c5",
   "metadata": {},
   "outputs": [
    {
     "name": "stdout",
     "output_type": "stream",
     "text": [
      "   PYTHON IS DYNAMICALLY TYPED PROGRAMMING LANGUAGE  \n",
      "   python is dynamically typed programming language  \n",
      "Python is Dynamically typed programming language  \n",
      "   Python is Dynamically typed programming language\n",
      "Python is Dynamically typed programming language\n",
      "   Python Is Dynamically Typed Programming Language  \n"
     ]
    }
   ],
   "source": [
    "#String\n",
    "xyz=\"   Python is Dynamically typed programming language  \"\n",
    "print(xyz.upper())\n",
    "print(xyz.lower())\n",
    "print(xyz.lstrip())\n",
    "print(xyz.rstrip())\n",
    "print(xyz.strip())\n",
    "print(xyz.title())\n"
   ]
  },
  {
   "cell_type": "code",
   "execution_count": 23,
   "id": "e33670c1",
   "metadata": {},
   "outputs": [
    {
     "name": "stdout",
     "output_type": "stream",
     "text": [
      "a\n",
      "Same\n",
      "ameer\n"
     ]
    },
    {
     "data": {
      "text/plain": [
       "<function print(*args, sep=' ', end='\\n', file=None, flush=False)>"
      ]
     },
     "execution_count": 23,
     "metadata": {},
     "output_type": "execute_result"
    }
   ],
   "source": [
    "string=\"Sameer\"\n",
    "print(string[1])\n",
    "print(string[0:4])\n",
    "print(string[1:])\n",
    "print"
   ]
  },
  {
   "cell_type": "code",
   "execution_count": 21,
   "id": "ce986e28",
   "metadata": {},
   "outputs": [
    {
     "data": {
      "text/plain": [
       "'Sam'"
      ]
     },
     "execution_count": 21,
     "metadata": {},
     "output_type": "execute_result"
    }
   ],
   "source": []
  },
  {
   "cell_type": "code",
   "execution_count": 22,
   "id": "6f02f8a2",
   "metadata": {},
   "outputs": [
    {
     "data": {
      "text/plain": [
       "''"
      ]
     },
     "execution_count": 22,
     "metadata": {},
     "output_type": "execute_result"
    }
   ],
   "source": []
  },
  {
   "cell_type": "code",
   "execution_count": 31,
   "id": "320279ce",
   "metadata": {},
   "outputs": [
    {
     "name": "stdout",
     "output_type": "stream",
     "text": [
      "Sameir\n",
      "Sameer\n"
     ]
    }
   ],
   "source": [
    "string=\"Sameir\"\n",
    "print(string)\n",
    "str1=string.replace(\"i\", \"e\")\n",
    "print(str1)\n",
    "\n"
   ]
  },
  {
   "cell_type": "code",
   "execution_count": 32,
   "id": "2944e945",
   "metadata": {},
   "outputs": [
    {
     "name": "stdout",
     "output_type": "stream",
     "text": [
      "['apple', 'banana', 'orange']\n",
      "<class 'list'>\n"
     ]
    }
   ],
   "source": [
    "fruits=[\"apple\",\"banana\",\"orange\"]\n",
    "print(fruits)\n",
    "print(type(fruits))"
   ]
  },
  {
   "cell_type": "code",
   "execution_count": 33,
   "id": "e297baf0",
   "metadata": {},
   "outputs": [],
   "source": [
    "fruits.append(\"cherry\")"
   ]
  },
  {
   "cell_type": "code",
   "execution_count": 34,
   "id": "0894948b",
   "metadata": {},
   "outputs": [
    {
     "name": "stdout",
     "output_type": "stream",
     "text": [
      "['apple', 'banana', 'orange', 'cherry']\n"
     ]
    }
   ],
   "source": [
    "print(fruits)"
   ]
  },
  {
   "cell_type": "code",
   "execution_count": 35,
   "id": "fa495e93",
   "metadata": {},
   "outputs": [],
   "source": [
    "fruits.insert(1,\"Pineapple\")"
   ]
  },
  {
   "cell_type": "code",
   "execution_count": 36,
   "id": "f3637bac",
   "metadata": {},
   "outputs": [
    {
     "name": "stdout",
     "output_type": "stream",
     "text": [
      "['apple', 'Pineapple', 'banana', 'orange', 'cherry']\n"
     ]
    }
   ],
   "source": [
    "print(fruits)"
   ]
  },
  {
   "cell_type": "code",
   "execution_count": 43,
   "id": "e7e46a11",
   "metadata": {},
   "outputs": [
    {
     "name": "stdout",
     "output_type": "stream",
     "text": [
      "['apple', 'Banana', 'cherry']\n"
     ]
    }
   ],
   "source": [
    "fruits.pop(1)\n",
    "print(fruits)"
   ]
  },
  {
   "cell_type": "code",
   "execution_count": 45,
   "id": "ba425c98",
   "metadata": {},
   "outputs": [
    {
     "name": "stdout",
     "output_type": "stream",
     "text": [
      "['apple', 'orange', 'Banana', 'cherry', 'Pineapple']\n"
     ]
    }
   ],
   "source": [
    "fruits.insert(1, \"orange\")\n",
    "print(fruits)"
   ]
  },
  {
   "cell_type": "code",
   "execution_count": 46,
   "id": "6e74f679",
   "metadata": {},
   "outputs": [
    {
     "name": "stdout",
     "output_type": "stream",
     "text": [
      "['Banana', 'Pineapple', 'apple', 'cherry', 'orange']\n"
     ]
    }
   ],
   "source": [
    "fruits.sort()\n",
    "print(fruits)"
   ]
  },
  {
   "cell_type": "code",
   "execution_count": 47,
   "id": "71632cee",
   "metadata": {},
   "outputs": [
    {
     "data": {
      "text/plain": [
       "['Java', 'is', 'Robust', 'Programming', 'Language']"
      ]
     },
     "execution_count": 47,
     "metadata": {},
     "output_type": "execute_result"
    }
   ],
   "source": [
    "text=\"Java is Robust Programming Language\"\n",
    "text.split()\n"
   ]
  },
  {
   "cell_type": "code",
   "execution_count": 50,
   "id": "3b47155f",
   "metadata": {},
   "outputs": [
    {
     "name": "stdout",
     "output_type": "stream",
     "text": [
      "Family before flood ['Mem1', 'Mem2', 'Mem3', 'Mem4', 'Mem5', 'Mem6', 'Mem7', 'Mem8', 'Mem9', 'Mem10']\n",
      "Family after flood ['Mem1', 'Mem2', 'Mem3', 'Mem4', 'Mem5']\n"
     ]
    }
   ],
   "source": [
    "family=[\"Mem1\",\"Mem2\",\"Mem3\",\"Mem4\",\"Mem5\",\"Mem6\",\"Mem7\",\"Mem8\",\"Mem9\",\"Mem10\"]\n",
    "print(\"Family before flood\",family)\n",
    "del family[5:10]\n",
    "print(\"Family after flood\",family)\n",
    "print(\"\")"
   ]
  },
  {
   "cell_type": "code",
   "execution_count": 3,
   "id": "ee151c29",
   "metadata": {},
   "outputs": [
    {
     "name": "stdout",
     "output_type": "stream",
     "text": [
      "{'brand': 'Mahindra', 'model': 'Thar', 'Year': 2010}\n"
     ]
    }
   ],
   "source": [
    "cars={\n",
    "    \"brand\":\"Mahindra\",\n",
    "    \"model\":\"Thar\",\n",
    "    \"Year\":2010\n",
    "}\n",
    "print(cars)"
   ]
  },
  {
   "cell_type": "code",
   "execution_count": 4,
   "id": "ff388e85",
   "metadata": {},
   "outputs": [
    {
     "ename": "NameError",
     "evalue": "name 'cars_keys' is not defined",
     "output_type": "error",
     "traceback": [
      "\u001b[1;31m---------------------------------------------------------------------------\u001b[0m",
      "\u001b[1;31mNameError\u001b[0m                                 Traceback (most recent call last)",
      "Cell \u001b[1;32mIn[4], line 1\u001b[0m\n\u001b[1;32m----> 1\u001b[0m \u001b[38;5;28mprint\u001b[39m(cars_keys)\n\u001b[0;32m      2\u001b[0m \u001b[38;5;28mprint\u001b[39m(cars_values)\n",
      "\u001b[1;31mNameError\u001b[0m: name 'cars_keys' is not defined"
     ]
    }
   ],
   "source": [
    "print(cars_keys)\n",
    "print(cars_values)"
   ]
  },
  {
   "cell_type": "code",
   "execution_count": null,
   "id": "c2bb7f2f",
   "metadata": {},
   "outputs": [],
   "source": [
    "Emp1={\"Name\":\"Emp1\",\n",
    "      \"salary\":20000\n",
    " }\n",
    "Emp2={\"Name\":\"Emp2\"\n",
    "      \"Salary\":18000\n",
    "}\n",
    "print(Emp)"
   ]
  }
 ],
 "metadata": {
  "kernelspec": {
   "display_name": "Python 3 (ipykernel)",
   "language": "python",
   "name": "python3"
  },
  "language_info": {
   "codemirror_mode": {
    "name": "ipython",
    "version": 3
   },
   "file_extension": ".py",
   "mimetype": "text/x-python",
   "name": "python",
   "nbconvert_exporter": "python",
   "pygments_lexer": "ipython3",
   "version": "3.11.4"
  }
 },
 "nbformat": 4,
 "nbformat_minor": 5
}
