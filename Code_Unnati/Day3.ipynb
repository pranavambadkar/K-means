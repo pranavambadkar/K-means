{
 "cells": [
  {
   "cell_type": "code",
   "execution_count": 6,
   "id": "f034ad4b",
   "metadata": {},
   "outputs": [
    {
     "name": "stdout",
     "output_type": "stream",
     "text": [
      "The number is even\n",
      "The number is even\n",
      "The number is even\n",
      "The number is even\n"
     ]
    }
   ],
   "source": [
    "numbers=[2,4,6,8]\n",
    "for i in numbers:\n",
    "    if i%2==0:\n",
    "        print(\"The number is even\")\n",
    "    else:\n",
    "        print(\"the number is odd\")"
   ]
  },
  {
   "cell_type": "code",
   "execution_count": 25,
   "id": "6fd97b17",
   "metadata": {},
   "outputs": [
    {
     "ename": "SyntaxError",
     "evalue": "invalid syntax (2612998368.py, line 8)",
     "output_type": "error",
     "traceback": [
      "\u001b[1;36m  Cell \u001b[1;32mIn[25], line 8\u001b[1;36m\u001b[0m\n\u001b[1;33m    else:\u001b[0m\n\u001b[1;37m    ^\u001b[0m\n\u001b[1;31mSyntaxError\u001b[0m\u001b[1;31m:\u001b[0m invalid syntax\n"
     ]
    }
   ],
   "source": []
  },
  {
   "cell_type": "code",
   "execution_count": 28,
   "id": "6c278ac1",
   "metadata": {},
   "outputs": [
    {
     "name": "stdout",
     "output_type": "stream",
     "text": [
      "210\n"
     ]
    }
   ],
   "source": [
    "num=20\n",
    "a=0\n",
    "for i in range(0,num+1):\n",
    "    a=a+i\n",
    "print(a)\n",
    "    "
   ]
  },
  {
   "cell_type": "code",
   "execution_count": 45,
   "id": "59a3337c",
   "metadata": {},
   "outputs": [
    {
     "name": "stdout",
     "output_type": "stream",
     "text": [
      "{'pencil': 40, 'pen': 10, 'scale': 9}\n",
      "Enter the product name:pencil\n",
      "product value is 40\n",
      "Enter the quntity:2\n",
      "Enter the product name:pen\n",
      "product value is 10\n",
      "Enter the quntity:1\n",
      "Enter the product name:scale\n",
      "product value is 9\n",
      "Enter the quntity:3\n",
      "total cost is 240\n"
     ]
    }
   ],
   "source": [
    "products={\n",
    "    \"pencil\":40,\n",
    "    \"pen\":10,\n",
    "    \"scale\":9\n",
    "}\n",
    "print(products)\n",
    "cost=0\n",
    "for x in products:\n",
    "    customer=input(\"Enter the product name:\")\n",
    "    \n",
    "    if customer==x:\n",
    "       \n",
    "        value=products.get(x)\n",
    "        print(\"product value is\",value)\n",
    "        quantity=int(input(\"Enter the quntity:\"))\n",
    "        tval=value*quantity\n",
    "        cost=cost+val;\n",
    "    else:\n",
    "        print(\"Product is not available\")\n",
    "print(\"total cost is\", cost)\n",
    "        "
   ]
  },
  {
   "cell_type": "code",
   "execution_count": 3,
   "id": "3126cae7",
   "metadata": {},
   "outputs": [
    {
     "ename": "TypeError",
     "evalue": "can only concatenate str (not \"int\") to str",
     "output_type": "error",
     "traceback": [
      "\u001b[1;31m---------------------------------------------------------------------------\u001b[0m",
      "\u001b[1;31mTypeError\u001b[0m                                 Traceback (most recent call last)",
      "Cell \u001b[1;32mIn[3], line 9\u001b[0m\n\u001b[0;32m      7\u001b[0m \u001b[38;5;28;01mfor\u001b[39;00m i \u001b[38;5;129;01min\u001b[39;00m age:\n\u001b[0;32m      8\u001b[0m     value\u001b[38;5;241m=\u001b[39mage\u001b[38;5;241m.\u001b[39mget(i)\n\u001b[1;32m----> 9\u001b[0m     value2\u001b[38;5;241m=\u001b[39mage\u001b[38;5;241m.\u001b[39mget(i\u001b[38;5;241m+\u001b[39m\u001b[38;5;241m1\u001b[39m)\n\u001b[0;32m     10\u001b[0m     \u001b[38;5;28mprint\u001b[39m(value)\n\u001b[0;32m     11\u001b[0m     \u001b[38;5;28;01mif\u001b[39;00m value\u001b[38;5;241m>\u001b[39mvalue2:\n",
      "\u001b[1;31mTypeError\u001b[0m: can only concatenate str (not \"int\") to str"
     ]
    }
   ],
   "source": [
    "age={\n",
    "    \"per1\":23,\n",
    "    \"per2\":34,\n",
    "    \"per3\":21,\n",
    "    \"per4\":25,\n",
    "}\n",
    "for i in age:\n",
    "    value=age.get(i)\n",
    "    value=age.get(i)\n",
    "    print(value)\n",
    "    \n",
    "        "
   ]
  },
  {
   "cell_type": "code",
   "execution_count": null,
   "id": "e8c0feca",
   "metadata": {},
   "outputs": [],
   "source": []
  },
  {
   "cell_type": "code",
   "execution_count": null,
   "id": "cce62980",
   "metadata": {},
   "outputs": [],
   "source": []
  }
 ],
 "metadata": {
  "kernelspec": {
   "display_name": "Python 3 (ipykernel)",
   "language": "python",
   "name": "python3"
  },
  "language_info": {
   "codemirror_mode": {
    "name": "ipython",
    "version": 3
   },
   "file_extension": ".py",
   "mimetype": "text/x-python",
   "name": "python",
   "nbconvert_exporter": "python",
   "pygments_lexer": "ipython3",
   "version": "3.11.4"
  }
 },
 "nbformat": 4,
 "nbformat_minor": 5
}
