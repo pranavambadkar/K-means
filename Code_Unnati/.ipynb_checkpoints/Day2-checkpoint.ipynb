{
 "cells": [
  {
   "cell_type": "code",
   "execution_count": 4,
   "id": "f6909670",
   "metadata": {},
   "outputs": [
    {
     "name": "stdout",
     "output_type": "stream",
     "text": [
      "20\n",
      "This is code unnai course\n"
     ]
    }
   ],
   "source": [
    "#global variable\n",
    "a=\"This is code unnai course\"\n",
    "def test():\n",
    "    #local variable\n",
    "    a=20\n",
    "    print(a)\n",
    "test()\n",
    "print(a)\n"
   ]
  },
  {
   "cell_type": "code",
   "execution_count": 9,
   "id": "22176fa9",
   "metadata": {},
   "outputs": [
    {
     "name": "stdout",
     "output_type": "stream",
     "text": [
      "12\n",
      "4\n",
      "multiplication is 48\n",
      "Addition is 16\n",
      "Substraction is 8\n",
      "Division is 3.0\n"
     ]
    }
   ],
   "source": [
    "a=int(input())\n",
    "b=int(input())\n",
    "def test(a,b):\n",
    "    print(\"multiplication is\",a*b)\n",
    "    print(\"Addition is\",a+b)\n",
    "    print(\"Substraction is\",a-b)\n",
    "    print(\"Division is\",a/b)\n",
    "test(a,b)"
   ]
  },
  {
   "cell_type": "code",
   "execution_count": 13,
   "id": "833d8ec1",
   "metadata": {},
   "outputs": [
    {
     "name": "stdout",
     "output_type": "stream",
     "text": [
      "   PYTHON IS DYNAMICALLY TYPED PROGRAMMING LANGUAGE  \n",
      "   python is dynamically typed programming language  \n",
      "Python is Dynamically typed programming language  \n",
      "   Python is Dynamically typed programming language\n",
      "Python is Dynamically typed programming language\n"
     ]
    }
   ],
   "source": [
    "#String\n",
    "xyz=\"   Python is Dynamically typed programming language  \"\n",
    "print(xyz.upper())\n",
    "print(xyz.lower())\n",
    "print(xyz.lstrip())\n",
    "print(xyz.rstrip())\n",
    "print(xyz.strip())\n",
    "print(xyz.title())\n"
   ]
  },
  {
   "cell_type": "code",
   "execution_count": null,
   "id": "298c0e35",
   "metadata": {},
   "outputs": [],
   "source": []
  }
 ],
 "metadata": {
  "kernelspec": {
   "display_name": "Python 3 (ipykernel)",
   "language": "python",
   "name": "python3"
  },
  "language_info": {
   "codemirror_mode": {
    "name": "ipython",
    "version": 3
   },
   "file_extension": ".py",
   "mimetype": "text/x-python",
   "name": "python",
   "nbconvert_exporter": "python",
   "pygments_lexer": "ipython3",
   "version": "3.11.4"
  }
 },
 "nbformat": 4,
 "nbformat_minor": 5
}
