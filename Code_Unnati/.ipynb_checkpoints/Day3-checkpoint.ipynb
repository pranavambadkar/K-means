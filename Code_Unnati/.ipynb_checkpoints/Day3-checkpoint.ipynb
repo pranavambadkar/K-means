{
 "cells": [
  {
   "cell_type": "code",
   "execution_count": 6,
   "id": "f034ad4b",
   "metadata": {},
   "outputs": [
    {
     "name": "stdout",
     "output_type": "stream",
     "text": [
      "The number is even\n",
      "The number is even\n",
      "The number is even\n",
      "The number is even\n"
     ]
    }
   ],
   "source": [
    "numbers=[2,4,6,8]\n",
    "for i in numbers:\n",
    "    if i%2==0:\n",
    "        print(\"The number is even\")\n",
    "    else:\n",
    "        print(\"the number is odd\")"
   ]
  },
  {
   "cell_type": "code",
   "execution_count": 25,
   "id": "6fd97b17",
   "metadata": {},
   "outputs": [
    {
     "ename": "SyntaxError",
     "evalue": "invalid syntax (2612998368.py, line 8)",
     "output_type": "error",
     "traceback": [
      "\u001b[1;36m  Cell \u001b[1;32mIn[25], line 8\u001b[1;36m\u001b[0m\n\u001b[1;33m    else:\u001b[0m\n\u001b[1;37m    ^\u001b[0m\n\u001b[1;31mSyntaxError\u001b[0m\u001b[1;31m:\u001b[0m invalid syntax\n"
     ]
    }
   ],
   "source": []
  },
  {
   "cell_type": "code",
   "execution_count": 28,
   "id": "6c278ac1",
   "metadata": {},
   "outputs": [
    {
     "name": "stdout",
     "output_type": "stream",
     "text": [
      "210\n"
     ]
    }
   ],
   "source": [
    "num=20\n",
    "a=0\n",
    "for i in range(0,num+1):\n",
    "    a=a+i\n",
    "print(a)\n",
    "    "
   ]
  },
  {
   "cell_type": "code",
   "execution_count": 42,
   "id": "59a3337c",
   "metadata": {},
   "outputs": [
    {
     "name": "stdout",
     "output_type": "stream",
     "text": [
      "{'pencil': 40, 'pen': 10, 'scale': 9}\n",
      "Enter the product name:pencil\n",
      "Enter the quntity:2\n"
     ]
    },
    {
     "ename": "TypeError",
     "evalue": "unsupported operand type(s) for +: 'int' and 'str'",
     "output_type": "error",
     "traceback": [
      "\u001b[1;31m---------------------------------------------------------------------------\u001b[0m",
      "\u001b[1;31mTypeError\u001b[0m                                 Traceback (most recent call last)",
      "Cell \u001b[1;32mIn[42], line 15\u001b[0m\n\u001b[0;32m     13\u001b[0m     value\u001b[38;5;241m=\u001b[39mproducts\u001b[38;5;241m.\u001b[39mget(x)\n\u001b[0;32m     14\u001b[0m     val\u001b[38;5;241m=\u001b[39mvalue\u001b[38;5;241m*\u001b[39mquantity\n\u001b[1;32m---> 15\u001b[0m     cost\u001b[38;5;241m=\u001b[39mcost\u001b[38;5;241m+\u001b[39mval;\n\u001b[0;32m     16\u001b[0m \u001b[38;5;28;01melse\u001b[39;00m:\n\u001b[0;32m     17\u001b[0m     \u001b[38;5;28mprint\u001b[39m(\u001b[38;5;124m\"\u001b[39m\u001b[38;5;124mProduct is not available\u001b[39m\u001b[38;5;124m\"\u001b[39m)\n",
      "\u001b[1;31mTypeError\u001b[0m: unsupported operand type(s) for +: 'int' and 'str'"
     ]
    }
   ],
   "source": [
    "products={\n",
    "    \"pencil\":40,\n",
    "    \"pen\":10,\n",
    "    \"scale\":9\n",
    "}\n",
    "print(products)\n",
    "cost=0\n",
    "for x in products:\n",
    "    customer=input(\"Enter the product name:\")\n",
    "    \n",
    "    if customer==x:\n",
    "        quantity=int(input(\"Enter the quntity:\"))\n",
    "        value=products.get(x)\n",
    "        val=value*quantity\n",
    "        cost=cost+val;\n",
    "    else:\n",
    "        print(\"Product is not available\")\n",
    "print(\"total cost is\", cost)\n",
    "        "
   ]
  },
  {
   "cell_type": "code",
   "execution_count": null,
   "id": "6c794bde",
   "metadata": {},
   "outputs": [],
   "source": []
  }
 ],
 "metadata": {
  "kernelspec": {
   "display_name": "Python 3 (ipykernel)",
   "language": "python",
   "name": "python3"
  },
  "language_info": {
   "codemirror_mode": {
    "name": "ipython",
    "version": 3
   },
   "file_extension": ".py",
   "mimetype": "text/x-python",
   "name": "python",
   "nbconvert_exporter": "python",
   "pygments_lexer": "ipython3",
   "version": "3.11.4"
  }
 },
 "nbformat": 4,
 "nbformat_minor": 5
}
